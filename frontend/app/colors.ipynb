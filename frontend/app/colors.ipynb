{
 "cells": [
  {
   "cell_type": "code",
   "execution_count": 55,
   "id": "d8c8d402",
   "metadata": {},
   "outputs": [],
   "source": [
    "from string import ascii_lowercase\n",
    "LETTERS = {letter: str(index) for index, letter in enumerate(ascii_lowercase, start=1)}\n",
    "\n",
    "\n",
    "def getNumber(text, max_length = 3):\n",
    "    base = 26\n",
    "    try:\n",
    "        text = text.lower().strip().replace(' ', '')[:max_length]\n",
    "        mynumbers = [int(LETTERS.get(character))*base**(max_length-ix) for ix, character in enumerate(text)]\n",
    "        return np.sum(mynumbers)\n",
    "\n",
    "    except Exception as e:\n",
    "        return 1\n",
    "\n",
    "\n",
    "def get_relative_Number(text, max_length = 3):\n",
    "\n",
    "    return getNumber(text, max_length) / getNumber('z'*max_length, max_length)"
   ]
  },
  {
   "cell_type": "code",
   "execution_count": null,
   "id": "a3130d2c",
   "metadata": {},
   "outputs": [],
   "source": []
  },
  {
   "cell_type": "code",
   "execution_count": null,
   "id": "d34a5db3",
   "metadata": {},
   "outputs": [],
   "source": []
  }
 ],
 "metadata": {
  "kernelspec": {
   "display_name": "Python 3",
   "language": "python",
   "name": "python3"
  },
  "language_info": {
   "codemirror_mode": {
    "name": "ipython",
    "version": 3
   },
   "file_extension": ".py",
   "mimetype": "text/x-python",
   "name": "python",
   "nbconvert_exporter": "python",
   "pygments_lexer": "ipython3",
   "version": "3.8.9"
  }
 },
 "nbformat": 4,
 "nbformat_minor": 5
}
