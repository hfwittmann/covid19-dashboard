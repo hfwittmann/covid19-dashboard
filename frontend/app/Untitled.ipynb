{
 "cells": [
  {
   "cell_type": "code",
   "execution_count": 2,
   "id": "3a92d59b",
   "metadata": {},
   "outputs": [
    {
     "data": {
      "text/plain": [
       "{'a': '1',\n",
       " 'b': '2',\n",
       " 'c': '3',\n",
       " 'd': '4',\n",
       " 'e': '5',\n",
       " 'f': '6',\n",
       " 'g': '7',\n",
       " 'h': '8',\n",
       " 'i': '9',\n",
       " 'j': '10',\n",
       " 'k': '11',\n",
       " 'l': '12',\n",
       " 'm': '13',\n",
       " 'n': '14',\n",
       " 'o': '15',\n",
       " 'p': '16',\n",
       " 'q': '17',\n",
       " 'r': '18',\n",
       " 's': '19',\n",
       " 't': '20',\n",
       " 'u': '21',\n",
       " 'v': '22',\n",
       " 'w': '23',\n",
       " 'x': '24',\n",
       " 'y': '25',\n",
       " 'z': '26'}"
      ]
     },
     "execution_count": 2,
     "metadata": {},
     "output_type": "execute_result"
    }
   ],
   "source": [
    "from string import ascii_lowercase\n",
    "\n",
    "\n",
    "LETTERS = {letter: str(index) for index, letter in enumerate(ascii_lowercase, start=1)}\n",
    "LETTERS"
   ]
  },
  {
   "cell_type": "code",
   "execution_count": null,
   "id": "6462f52c",
   "metadata": {},
   "outputs": [],
   "source": [
    "from string import "
   ]
  }
 ],
 "metadata": {
  "kernelspec": {
   "display_name": "Python 3",
   "language": "python",
   "name": "python3"
  },
  "language_info": {
   "codemirror_mode": {
    "name": "ipython",
    "version": 3
   },
   "file_extension": ".py",
   "mimetype": "text/x-python",
   "name": "python",
   "nbconvert_exporter": "python",
   "pygments_lexer": "ipython3",
   "version": "3.8.9"
  }
 },
 "nbformat": 4,
 "nbformat_minor": 5
}
